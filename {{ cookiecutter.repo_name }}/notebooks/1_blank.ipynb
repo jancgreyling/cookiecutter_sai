{
 "cells": [
  {
   "cell_type": "markdown",
   "metadata": {},
   "source": [
    "# Import modules"
   ]
  },
  {
   "cell_type": "code",
   "execution_count": 1,
   "metadata": {},
   "outputs": [
    {
     "data": {
      "text/plain": [
       "PosixPath('/Users/jancg/Library/CloudStorage/OneDrive-Personal/2.1_Data_projects/1.2.1_Research/hybrid_maize')"
      ]
     },
     "execution_count": 1,
     "metadata": {},
     "output_type": "execute_result"
    }
   ],
   "source": [
    "import os\n",
    "import pandas as pd\n",
    "import numpy as np\n",
    "\n",
    "from src import project_dir\n",
    "\n",
    "# JCG git functions\n",
    "## updating the functions: pip uninstall mypackages -y   followed by    pip install git+https://<token>@github.com/jancgreyling/mypackages.git\n",
    "with open(os.path.join(project_dir,'src','mypackages_import_all.py'), 'r') as f:\n",
    "    exec(f.read())\n",
    "    \n",
    "project_dir"
   ]
  },
  {
   "cell_type": "markdown",
   "metadata": {},
   "source": [
    "## Data\n",
    "\n",
    "### Import data"
   ]
  },
  {
   "cell_type": "code",
   "execution_count": 2,
   "metadata": {},
   "outputs": [],
   "source": [
    "file_path = os.path.join(project_dir, 'data', 'raw', 'USHybrid.csv')\n",
    "df = pd.read_csv(file_path)"
   ]
  }
 ],
 "metadata": {
  "kernelspec": {
   "display_name": "hybrid_maize",
   "language": "python",
   "name": "python3"
  },
  "language_info": {
   "codemirror_mode": {
    "name": "ipython",
    "version": 3
   },
   "file_extension": ".py",
   "mimetype": "text/x-python",
   "name": "python",
   "nbconvert_exporter": "python",
   "pygments_lexer": "ipython3",
   "version": "3.9.18"
  },
  "orig_nbformat": 4
 },
 "nbformat": 4,
 "nbformat_minor": 2
}
